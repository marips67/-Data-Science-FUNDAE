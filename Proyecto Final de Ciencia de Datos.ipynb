{
 "cells": [
  {
   "cell_type": "markdown",
   "id": "392d1e6c",
   "metadata": {},
   "source": [
    "# Final Data Science Project\n",
    "\n",
    "<p style=\"color:green; font-size:12px;\">\n",
    "(Ejercicio 2 - Cree una celda markdown con el título del cuaderno. (1 pto))\n",
    "</p>"
   ]
  },
  {
   "cell_type": "markdown",
   "id": "081dea87",
   "metadata": {},
   "source": [
    "## Introduction\n",
    "This workbook contains a set of tasks related to data science. <br>\n",
    "Some basic concepts are included, such as programming languages, libraries, tools and examples of mathematical operations. \n",
    "<br>\n",
    "<br>\n",
    "<p style=\"color:green; font-size:12px;\">\n",
    "(Ejercicio 3 - Cree una celda markdown para una introducción. (1 pto))\n",
    "</p>\n"
   ]
  },
  {
   "cell_type": "markdown",
   "id": "9d8965f3",
   "metadata": {},
   "source": [
    "## Data Science Languages\n",
    "The most used languages in data science are:\n",
    "- Python\n",
    "- R\n",
    "- SQL\n",
    "- Java\n",
    "- Julia\n",
    "- Scala\n",
    "<br>\n",
    "<br>\n",
    "<p style=\"color:green; font-size:12px;\">\n",
    "Ejercicio 4 - Cree una celda markdown para enumerar los lenguajes de la ciencia de datos. (3 ptos)\n",
    "</p>\n"
   ]
  },
  {
   "cell_type": "markdown",
   "id": "bf045e3d",
   "metadata": {},
   "source": [
    "## Bibliotecas de Ciencia de Datos\n",
    "Algunas de las bibliotecas más populares para la ciencia de datos son:\n",
    "- Pandas\n",
    "- NumPy\n",
    "- Matplotlib\n",
    "- Scikit-learn\n",
    "- TensorFlow\n",
    "- Keras\n",
    "<br>\n",
    "<br>\n",
    "<p style=\"color:green; font-size:12px;\">\n",
    "Ejercicio 5 - Cree una celda markdown para listar bibliotecas de ciencia de datos. (3 ptos)\n",
    "</p>"
   ]
  },
  {
   "cell_type": "markdown",
   "id": "38e5024f",
   "metadata": {},
   "source": [
    "## Data Science Tools\n",
    "\n",
    "| Tool                   | Description                                     |\n",
    "|------------------------|-------------------------------------------------|\n",
    "| Jupyter Notebooks      | Interactive environment to execute code        |\n",
    "| RStudio                | Popular IDE for R and data analysis             |\n",
    "| Apache Spark           | Big Data Distributed Analytics Engine           |\n",
    "| Tableau                | Data visualization tool                         |\n",
    "| Power BI               | Data visualization and Business intelligence tool|\n",
    "\n",
    "<br>\n",
    "<br>\n",
    "<p style=\"color:green; font-size:12px;\">\n",
    "Ejercicio 6 - Cree una celda markdown con una tabla de herramientas de Ciencia de Datos. (3 ptos)\n",
    "</p>\n",
    "\n"
   ]
  },
  {
   "cell_type": "markdown",
   "id": "e4098574",
   "metadata": {},
   "source": [
    "## Examples of Arithmetic Expressions\n",
    "Next, we will look at some examples of how to perform basic mathematical operations, such as addition and multiplication.\n",
    "<br>\n",
    "<br>\n",
    "\n",
    "<p style=\"color:green; font-size:12px;\">\n",
    "Ejercicio 7 - Cree una celda markdown introduciendo ejemplos de expresiones aritméticas. (1 pto)\n",
    "</p>"
   ]
  },
  {
   "cell_type": "code",
   "execution_count": 9,
   "id": "a00d1e01",
   "metadata": {},
   "outputs": [
    {
     "data": {
      "text/plain": [
       "(30, 11)"
      ]
     },
     "execution_count": 9,
     "metadata": {},
     "output_type": "execute_result"
    }
   ],
   "source": [
    "mult = 5 * 6\n",
    "add = 5 + 6\n",
    "mult, add\n",
    "\n",
    "# Ejercicio 8 - Cree una celda de códigopara multiplicar y sumar números. (2 ptos)"
   ]
  },
  {
   "cell_type": "code",
   "execution_count": 10,
   "id": "f2da9cbf",
   "metadata": {},
   "outputs": [
    {
     "data": {
      "text/plain": [
       "2.0"
      ]
     },
     "execution_count": 10,
     "metadata": {},
     "output_type": "execute_result"
    }
   ],
   "source": [
    "mints = 120\n",
    "hours = mints / 60\n",
    "hours\n",
    "\n",
    "#Ejercicio 9 - Cree una celda de código para convertir minutos en horas. (2 ptos)"
   ]
  },
  {
   "cell_type": "code",
   "execution_count": 12,
   "id": "074494bc",
   "metadata": {},
   "outputs": [
    {
     "name": "stdout",
     "output_type": "stream",
     "text": [
      "Understand data science languages\n",
      "Familiarize yourself with common libraries\n",
      "Learning how to do basic arithmetic operations\n",
      "Create a notebook in Jupyter on github\n"
     ]
    }
   ],
   "source": [
    "obj = [\"Understand data science languages\", \n",
    "      \"Familiarize yourself with common libraries\", \n",
    "      \"Learning how to do basic arithmetic operations\", \n",
    "      \"Create a notebook in Jupyter on github\"]\n",
    "for o in obj:\n",
    "    print(o)\n",
    "\n",
    "    \n",
    "#Ejercicio 10 -Inserte una celda de código para listar Objetivos. (3 pts)"
   ]
  },
  {
   "cell_type": "markdown",
   "id": "bc5ddb53",
   "metadata": {},
   "source": [
    "## Author\n",
    "Author's name: Mariela\n",
    "<br>\n",
    "<br>\n",
    "\n",
    "<p style=\"color:green; font-size:12px;\">\n",
    "Ejercicio 11 - Cree una celda markdown para indicar el nombre del Autor. (2 ptos)\n",
    "</p>\n"
   ]
  },
  {
   "cell_type": "code",
   "execution_count": null,
   "id": "3b3082f8",
   "metadata": {},
   "outputs": [],
   "source": []
  }
 ],
 "metadata": {
  "kernelspec": {
   "display_name": "Python 3 (ipykernel)",
   "language": "python",
   "name": "python3"
  },
  "language_info": {
   "codemirror_mode": {
    "name": "ipython",
    "version": 3
   },
   "file_extension": ".py",
   "mimetype": "text/x-python",
   "name": "python",
   "nbconvert_exporter": "python",
   "pygments_lexer": "ipython3",
   "version": "3.9.13"
  }
 },
 "nbformat": 4,
 "nbformat_minor": 5
}
